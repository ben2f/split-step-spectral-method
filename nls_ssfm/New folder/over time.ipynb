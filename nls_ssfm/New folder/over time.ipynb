{
 "cells": [
  {
   "cell_type": "code",
   "execution_count": 9,
   "id": "16c1f8c1-6f73-40d4-9f5d-6aebb0dfb7da",
   "metadata": {},
   "outputs": [
    {
     "name": "stdout",
     "output_type": "stream",
     "text": [
      "Plots saved for each selected time step.\n"
     ]
    }
   ],
   "source": [
    "from numpy import *\n",
    "import numpy as np\n",
    "import pandas as pd\n",
    "import matplotlib.pyplot as plt\n",
    "\n",
    "# Step 1: Read the CSV data\n",
    "df = pd.read_csv(\"fort.200\", sep='\\\\s+', header=None)\n",
    "df.columns = ['x', 't', 'u']  # Assuming columns represent x, t, and u respectively\n",
    "\n",
    "# Extract unique x and t values\n",
    "x_unique = np.unique(df['x'].values)\n",
    "t_unique = np.unique(df['t'].values)\n",
    "\n",
    "# Step 2: Reshape u based on unique x and t values\n",
    "u = df['u'].values\n",
    "u_reshaped = u.reshape(len(t_unique), len(x_unique))  # Reshape u for easier plotting\n",
    "\n",
    "# Step 3: Subsample the time steps (modify the step size to control number of lines)\n",
    "subsample_rate = 1  # Change this value as needed\n",
    "\n",
    "# Loop over every nth time step (subsampling)\n",
    "for i in range(0, len(t_unique), subsample_rate):  # Adjust subsample_rate for more/fewer figures\n",
    "    plt.figure(figsize=(8, 5))\n",
    "    \n",
    "    # Plot the solution for the current time step\n",
    "    plt.plot(x_unique, u_reshaped[i, :], label=f't={t_unique[i]:.2f}')\n",
    "    \n",
    "    # Customize the plot\n",
    "    plt.xlabel('x')\n",
    "    plt.ylabel('|u(t, x)|')\n",
    "    plt.title(f'Solution of NLS, g=4 at t={t_unique[i]:.2f}')\n",
    "    plt.legend(loc='upper right')\n",
    "    plt.grid(True)\n",
    "    \n",
    "    # Save each figure with a unique filename\n",
    "    plt.savefig(f\"solution_over_time_nls1_t{t_unique[i]:.2f}.png\")\n",
    "    plt.close()  # Close the figure after saving to avoid display overlap\n",
    "\n",
    "print(\"Plots saved for each selected time step.\")\n"
   ]
  },
  {
   "cell_type": "code",
   "execution_count": null,
   "id": "7841f240-03b6-4e7d-b1ff-8bb883698c6c",
   "metadata": {},
   "outputs": [],
   "source": []
  }
 ],
 "metadata": {
  "kernelspec": {
   "display_name": "Python 3 (ipykernel)",
   "language": "python",
   "name": "python3"
  },
  "language_info": {
   "codemirror_mode": {
    "name": "ipython",
    "version": 3
   },
   "file_extension": ".py",
   "mimetype": "text/x-python",
   "name": "python",
   "nbconvert_exporter": "python",
   "pygments_lexer": "ipython3",
   "version": "3.12.4"
  }
 },
 "nbformat": 4,
 "nbformat_minor": 5
}
