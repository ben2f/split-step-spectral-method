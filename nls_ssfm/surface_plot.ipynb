{
 "cells": [
  {
   "cell_type": "code",
   "execution_count": null,
   "id": "ef2ae46b-7b57-4ca2-8d9b-93098ef7409d",
   "metadata": {},
   "outputs": [],
   "source": [
    "import numpy as np\n",
    "import pandas as pd\n",
    "import matplotlib.pyplot as plt\n",
    "from mpl_toolkits.mplot3d import Axes3D\n",
    "from matplotlib import cm\n",
    "\n",
    "# Read the CSV data\n",
    "df = pd.read_csv(\"real1d-dyn.txt\", sep='\\\\s+', header=None)\n",
    "df.columns = ['x', 't', 'z']\n",
    "x = df['x'].values\n",
    "t = df['t'].values\n",
    "u = df['z'].values\n",
    "\n",
    "# Reshape u based on unique x and t values\n",
    "x_unique = np.unique(x)\n",
    "t_unique = np.unique(t)\n",
    "u_reshaped = u.reshape(len(t_unique), len(x_unique))  # Reshape u\n",
    "\n",
    "# Create meshgrid\n",
    "X, T = np.meshgrid(x_unique, t_unique)\n",
    "\n",
    "# Create a 3D surface plot\n",
    "#fig = plt.figure()\n",
    "fig = plt.figure()\n",
    "ax = fig.add_subplot(111, projection='3d')\n",
    "\n",
    "# Normalize the color based on the u values and choose a colormap\n",
    "norm = plt.Normalize(vmin=np.min(u_reshaped), vmax=np.max(u_reshaped))\n",
    "cmap = cm.inferno  # You can change this to other colormaps like 'viridis', 'plasma', etc.\n",
    "\n",
    "# Plot the surface\n",
    "surf = ax.plot_surface(X, T, u_reshaped, facecolors=cmap(norm(u_reshaped)), rstride=1, cstride=1, linewidth=0, antialiased=False, shade=False)\n",
    "\n",
    "# Add a color bar which maps values to colors\n",
    "mappable = cm.ScalarMappable(norm=norm, cmap=cmap)\n",
    "mappable.set_array(u_reshaped)\n",
    "fig.colorbar(mappable, ax=ax, shrink=0.6, aspect=5)\n",
    "\n",
    "# Set labels\n",
    "ax.set_xlabel('x')\n",
    "ax.set_ylabel('t')\n",
    "ax.set_zlabel('u(t,x)')\n",
    "#ax.view_init(elev=10, azim=-90)\n",
    "plt.savefig(\"surface_nls1.png\")\n",
    "plt.show()\n"
   ]
  },
  {
   "cell_type": "code",
   "execution_count": null,
   "id": "0500d246-a759-43de-9872-f61a481c4f0c",
   "metadata": {},
   "outputs": [],
   "source": []
  }
 ],
 "metadata": {
  "kernelspec": {
   "display_name": "Python 3 (ipykernel)",
   "language": "python",
   "name": "python3"
  },
  "language_info": {
   "codemirror_mode": {
    "name": "ipython",
    "version": 3
   },
   "file_extension": ".py",
   "mimetype": "text/x-python",
   "name": "python",
   "nbconvert_exporter": "python",
   "pygments_lexer": "ipython3",
   "version": "3.12.4"
  }
 },
 "nbformat": 4,
 "nbformat_minor": 5
}
